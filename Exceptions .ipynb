{
 "cells": [
  {
   "cell_type": "code",
   "execution_count": null,
   "metadata": {},
   "outputs": [],
   "source": [
    "# ex_1\n",
    "lst = ['red', 'blue', 'green', 'yellow', 'black']\n",
    "print(lst[7])"
   ]
  },
  {
   "cell_type": "code",
   "execution_count": null,
   "metadata": {},
   "outputs": [],
   "source": [
    "lst = ['red', 'blue', 'green', 'yellow', 'black']\n",
    "for i in lst:\n",
    "    i = int(input('pleas enter index! '))\n",
    "    try:\n",
    "        print(lst[i])\n",
    "        \n",
    "    except IndexError:\n",
    "        print('IndexError: list index out of range')"
   ]
  },
  {
   "cell_type": "code",
   "execution_count": null,
   "metadata": {},
   "outputs": [],
   "source": [
    "#ex_2\n",
    "\n",
    "list1 = ['Monday', 'Tuesday', 'Wednesday', 'Thusday']\n",
    "try:\n",
    "    \n",
    "    for i in range(5):\n",
    "        print(list1[i])\n",
    "except:\n",
    "    print('error')\n",
    "    \n",
    "    \n",
    "    \n"
   ]
  },
  {
   "cell_type": "code",
   "execution_count": null,
   "metadata": {},
   "outputs": [],
   "source": [
    "#ex_3\n",
    "for i in range(3):\n",
    "    try:\n",
    "        x = int(input())\n",
    "        y = int(input())\n",
    "    \n",
    "        print(x, '/', y, '=', x/y)\n",
    "        \n",
    "        \n",
    "    except ValueError:\n",
    "        print('ValueError: invalid literal for int() with base 10 ')\n",
    "        \n",
    "    except ZeroDivisionError   :\n",
    "        print('ZeroDivisionError: division by zero')"
   ]
  },
  {
   "cell_type": "code",
   "execution_count": null,
   "metadata": {},
   "outputs": [],
   "source": []
  },
  {
   "cell_type": "code",
   "execution_count": 2,
   "metadata": {},
   "outputs": [
    {
     "name": "stdout",
     "output_type": "stream",
     "text": [
      "int' object has no attribute 'name'\n"
     ]
    }
   ],
   "source": [
    "#ex_4\n",
    "a = 10\n",
    "try:\n",
    "    print(a.name)\n",
    "        \n",
    "except Exception:\n",
    "    print(\"int' object has no attribute 'name'\")\n",
    "    \n",
    "    \n",
    "    \n"
   ]
  },
  {
   "cell_type": "code",
   "execution_count": null,
   "metadata": {},
   "outputs": [],
   "source": []
  },
  {
   "cell_type": "code",
   "execution_count": null,
   "metadata": {},
   "outputs": [],
   "source": []
  }
 ],
 "metadata": {
  "kernelspec": {
   "display_name": "Python 3",
   "language": "python",
   "name": "python3"
  },
  "language_info": {
   "codemirror_mode": {
    "name": "ipython",
    "version": 3
   },
   "file_extension": ".py",
   "mimetype": "text/x-python",
   "name": "python",
   "nbconvert_exporter": "python",
   "pygments_lexer": "ipython3",
   "version": "3.7.0"
  }
 },
 "nbformat": 4,
 "nbformat_minor": 2
}
