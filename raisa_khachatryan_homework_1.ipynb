{
 "cells": [
  {
   "cell_type": "markdown",
   "metadata": {},
   "source": [
    "# variables\n"
   ]
  },
  {
   "cell_type": "code",
   "execution_count": 1,
   "metadata": {},
   "outputs": [
    {
     "name": "stdout",
     "output_type": "stream",
     "text": [
      "False\n"
     ]
    }
   ],
   "source": [
    "project = \"cake\"\n",
    "difficulty = 3\n",
    "ingredients = [\"flour\", \"butter\", \"sugar\", \"eggs\", \"cocoa power\", \"baking powder\"]\n",
    "print(\"apple\" in ingredients)"
   ]
  },
  {
   "cell_type": "code",
   "execution_count": 2,
   "metadata": {},
   "outputs": [
    {
     "name": "stdout",
     "output_type": "stream",
     "text": [
      "True\n"
     ]
    }
   ],
   "source": [
    "print(\"butter\" in ingredients)"
   ]
  },
  {
   "cell_type": "code",
   "execution_count": 4,
   "metadata": {},
   "outputs": [
    {
     "name": "stdout",
     "output_type": "stream",
     "text": [
      "True\n"
     ]
    }
   ],
   "source": [
    "print((\"eggs\" in ingredients) or (\"margarine\" in ingredients ))"
   ]
  },
  {
   "cell_type": "code",
   "execution_count": 5,
   "metadata": {},
   "outputs": [
    {
     "name": "stdout",
     "output_type": "stream",
     "text": [
      "False\n"
     ]
    }
   ],
   "source": [
    "print((\"eggs\" in ingredients) and (\"margarine\" in ingredients ))"
   ]
  },
  {
   "cell_type": "code",
   "execution_count": 12,
   "metadata": {},
   "outputs": [
    {
     "name": "stdout",
     "output_type": "stream",
     "text": [
      "<class 'int'>\n",
      "<class 'int'>\n",
      "<class 'str'>\n",
      "<class 'int'>\n",
      "<class 'str'>\n",
      "<class 'float'>\n"
     ]
    }
   ],
   "source": [
    "flour = 175\n",
    "butter = 175\n",
    "suger = \"100g\"\n",
    "eggs = 2\n",
    "cocoa_powder = \"1st\"\n",
    "baking_powder = 0.5\n",
    "print(type(flour))\n",
    "print(type(butter))\n",
    "print(type(suger))\n",
    "print(type(eggs))\n",
    "print(type(cocoa_powder))\n",
    "print(type(baking_powder))\n"
   ]
  },
  {
   "cell_type": "code",
   "execution_count": 13,
   "metadata": {},
   "outputs": [
    {
     "name": "stdout",
     "output_type": "stream",
     "text": [
      "flour -  175\n",
      "butter -  175\n",
      "eggs -  2\n"
     ]
    }
   ],
   "source": [
    "print(\"flour - \", flour)\n",
    "print(\"butter - \", butter)\n",
    "print(\"eggs - \", eggs) \n",
    "#...\n",
    "\n"
   ]
  },
  {
   "cell_type": "markdown",
   "metadata": {},
   "source": [
    "# operators\n"
   ]
  },
  {
   "cell_type": "code",
   "execution_count": 14,
   "metadata": {},
   "outputs": [
    {
     "name": "stdout",
     "output_type": "stream",
     "text": [
      "998.5\n",
      "852\n"
     ]
    }
   ],
   "source": [
    "a = 15\n",
    "b = 8\n",
    "c = 2\n",
    "first = 5*a**2 - a*b + (a % 2) - a / 2\n",
    "second = b**3 + 3*a*b -10*c\n",
    "print(first)\n",
    "print(second)\n"
   ]
  },
  {
   "cell_type": "markdown",
   "metadata": {},
   "source": [
    "# date and time"
   ]
  },
  {
   "cell_type": "code",
   "execution_count": 20,
   "metadata": {},
   "outputs": [
    {
     "name": "stdout",
     "output_type": "stream",
     "text": [
      "1997-04-12\n",
      "1997\n",
      "4\n",
      "12\n",
      "5\n"
     ]
    }
   ],
   "source": [
    "import datetime\n",
    "import time\n",
    "import calendar\n",
    "bdate = datetime.date(1997, 4, 12)\n",
    "\n",
    "\n",
    "print(bdate)\n",
    "print(bdate.year)\n",
    "print(bdate.month)\n",
    "print(bdate.day)\n",
    "print(calendar.weekday(1997, 4, 12))\n",
    "\n",
    "\n",
    "\n",
    "\n"
   ]
  },
  {
   "cell_type": "code",
   "execution_count": 21,
   "metadata": {},
   "outputs": [
    {
     "name": "stdout",
     "output_type": "stream",
     "text": [
      "      May 2017\n",
      "Mo Tu We Th Fr Sa Su\n",
      " 1  2  3  4  5  6  7\n",
      " 8  9 10 11 12 13 14\n",
      "15 16 17 18 19 20 21\n",
      "22 23 24 25 26 27 28\n",
      "29 30 31\n",
      "\n"
     ]
    }
   ],
   "source": [
    "c = calendar.month(2017,5)\n",
    "print(c)"
   ]
  },
  {
   "cell_type": "code",
   "execution_count": 27,
   "metadata": {},
   "outputs": [
    {
     "name": "stdout",
     "output_type": "stream",
     "text": [
      "2018-09-20\n",
      "2018-09-19\n",
      "2018-09-21\n",
      "2018-09-17\n"
     ]
    }
   ],
   "source": [
    "today = datetime.date.today()\n",
    "y = datetime.timedelta(days = 1)\n",
    "delta = datetime.timedelta(days = 2)\n",
    "delta_1 = datetime.timedelta(days = 3)\n",
    "print(today)\n",
    "print(today - y)\n",
    "print(today - y + delta)\n",
    "print(today - y - delta)\n",
    "\n"
   ]
  },
  {
   "cell_type": "markdown",
   "metadata": {},
   "source": [
    "\n",
    "# ..."
   ]
  },
  {
   "cell_type": "code",
   "execution_count": 34,
   "metadata": {},
   "outputs": [
    {
     "name": "stdout",
     "output_type": "stream",
     "text": [
      "3 -even\n",
      "5 -even\n",
      "6 -odd\n",
      "8 -odd\n"
     ]
    }
   ],
   "source": [
    "a = 3, 5, 6, 8\n",
    "for i in a:\n",
    "    if i % 2 == 0:\n",
    "        print(i, \"-odd\")\n",
    "    else:\n",
    "        print(i, \"-even\")\n",
    "        \n",
    "    "
   ]
  },
  {
   "cell_type": "code",
   "execution_count": null,
   "metadata": {},
   "outputs": [],
   "source": []
  }
 ],
 "metadata": {
  "kernelspec": {
   "display_name": "Python 3",
   "language": "python",
   "name": "python3"
  },
  "language_info": {
   "codemirror_mode": {
    "name": "ipython",
    "version": 3
   },
   "file_extension": ".py",
   "mimetype": "text/x-python",
   "name": "python",
   "nbconvert_exporter": "python",
   "pygments_lexer": "ipython3",
   "version": "3.6.5"
  }
 },
 "nbformat": 4,
 "nbformat_minor": 2
}
