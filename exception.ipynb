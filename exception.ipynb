{
 "cells": [
  {
   "cell_type": "code",
   "execution_count": 21,
   "metadata": {},
   "outputs": [
    {
     "name": "stdout",
     "output_type": "stream",
     "text": [
      "ModuleNotFoundError\n"
     ]
    }
   ],
   "source": [
    "\n",
    "try:\n",
    "    import m\n",
    "\n",
    "    print(math.sqrt(2**2 + 4**2))\n",
    "    \n",
    "except Exception:\n",
    "    \n",
    "    print(\"ModuleNotFoundError\")\n"
   ]
  },
  {
   "cell_type": "code",
   "execution_count": 71,
   "metadata": {},
   "outputs": [
    {
     "name": "stdout",
     "output_type": "stream",
     "text": [
      "division by zero\n",
      "0.0001\n",
      "unsupported operand type(s) for /: 'int' and 'str'\n",
      "division by zero\n"
     ]
    }
   ],
   "source": [
    "\n",
    "\n",
    "lst = [ 0, 10000, 'a', 0]\n",
    "for i in lst:\n",
    "    try:\n",
    "        print(1/i)\n",
    "        \n",
    "    except TypeError:\n",
    "        print(\"unsupported operand type(s) for /: 'int' and 'str'\")\n",
    "\n",
    "    except ZeroDivisionError:\n",
    "        print(\"division by zero\")\n",
    "    \n",
    "\n",
    "    "
   ]
  },
  {
   "cell_type": "code",
   "execution_count": 68,
   "metadata": {},
   "outputs": [],
   "source": [
    "class MyException(Exception):\n",
    "    pass"
   ]
  },
  {
   "cell_type": "code",
   "execution_count": 69,
   "metadata": {},
   "outputs": [
    {
     "name": "stdout",
     "output_type": "stream",
     "text": [
      "input username Rambo\n",
      "Please, only not Rambo\n"
     ]
    }
   ],
   "source": [
    "username = input(\"input username \")\n",
    "try:\n",
    "    if username == \"Rambo\":\n",
    "        raise MyException(\"Please, only not Rambo\") \n",
    "        \n",
    "except MyException as e:\n",
    "    print(e)\n"
   ]
  },
  {
   "cell_type": "code",
   "execution_count": null,
   "metadata": {},
   "outputs": [],
   "source": []
  },
  {
   "cell_type": "code",
   "execution_count": null,
   "metadata": {},
   "outputs": [],
   "source": []
  }
 ],
 "metadata": {
  "kernelspec": {
   "display_name": "Python 3",
   "language": "python",
   "name": "python3"
  },
  "language_info": {
   "codemirror_mode": {
    "name": "ipython",
    "version": 3
   },
   "file_extension": ".py",
   "mimetype": "text/x-python",
   "name": "python",
   "nbconvert_exporter": "python",
   "pygments_lexer": "ipython3",
   "version": "3.6.4"
  }
 },
 "nbformat": 4,
 "nbformat_minor": 2
}
